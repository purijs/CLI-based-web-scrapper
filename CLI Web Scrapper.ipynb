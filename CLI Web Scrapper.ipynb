{
 "cells": [
  {
   "cell_type": "code",
   "execution_count": 58,
   "metadata": {
    "collapsed": true
   },
   "outputs": [],
   "source": [
    "import ipywidgets as widget\n",
    "from IPython.display import display\n",
    "import urllib2\n",
    "from bs4 import BeautifulSoup\n",
    "from pymongo import MongoClient"
   ]
  },
  {
   "cell_type": "code",
   "execution_count": 61,
   "metadata": {
    "collapsed": false,
    "scrolled": false
   },
   "outputs": [],
   "source": [
    "sc_command=widget.Text()\n",
    "\n",
    "def process_scrap(value):\n",
    "    get_heads=0\n",
    "    get_desc=0\n",
    "    get_links=0\n",
    "    do_store=0\n",
    "    allow=0\n",
    "    command=sc_command.value\n",
    "    command_blocks=command.split(\" \")\n",
    "    url=command_blocks[0]\n",
    "    try:\n",
    "        page = urllib2.urlopen(url)\n",
    "        soup = BeautifulSoup(page)\n",
    "        allow=1\n",
    "    except:\n",
    "        print \"Invalid URL or No <h3> Tags Found!\"\n",
    "    \n",
    "    try:\n",
    "        if command_blocks[1]=='-heads':\n",
    "            get_heads=1\n",
    "    except IndexError:\n",
    "        pass\n",
    "\n",
    "    try:\n",
    "        if command_blocks[2]=='-store':\n",
    "            do_store=1\n",
    "    except IndexError:\n",
    "        pass\n",
    "    \n",
    "    if get_heads==1 and allow==1:\n",
    "        heads_list=[]\n",
    "        all_heads=soup.findAll(\"h3\")\n",
    "        for h in all_heads:\n",
    "            heads_list.append(all_heads)\n",
    "        \n",
    "        print heads_list\n",
    "    \n",
    "    get_heads=0\n",
    "    \n",
    "    if do_store==1:\n",
    "        if allow==1:\n",
    "            client=MongoClient()\n",
    "            db=client.webscrapper\n",
    "            scrapper=db.web\n",
    "            scrapper.insert_one({'url':url})\n",
    "            print \"Stored!\"\n",
    "        else:\n",
    "            print \"Can't store invalid or <h3> less URL\"\n",
    "        \n",
    "    do_store=0"
   ]
  },
  {
   "cell_type": "code",
   "execution_count": 63,
   "metadata": {
    "collapsed": false
   },
   "outputs": [
    {
     "name": "stdout",
     "output_type": "stream",
     "text": [
      "Enter command eg: [ http://urltoscrap.com -heads -store ] \n",
      "[[<h3><strong>What is Konversations?</strong></h3>, <h3><strong>Where do these classes take place? </strong></h3>, <h3><strong>How much is it going to cost me?</strong></h3>, <h3><strong>How do I know this stuff is actually going to help me?</strong></h3>, <h3><strong>So, you guarantee that I will get a job once I do the course?</strong></h3>, <h3><strong>I feel like I am really done with \\u201cstudying\\u201d. School and college were great, but I can\\u2019t really take any more \\u201clectures\\u201d. </strong></h3>, <h3>\\n<strong> Ok. So, courses. What else you got? </strong>\\n</h3>, <h3>\\n<strong> How do I know what\\u2019s relevant for ME? </strong>\\n</h3>, <h3>\\n<strong>Who are these new kids on the block at the Konversations team? </strong>\\n</h3>, <h3>\\n<strong> Biggest question of all \\u2013 what\\u2019s with the \\u201cK\\u201d? </strong>\\n</h3>], [<h3><strong>What is Konversations?</strong></h3>, <h3><strong>Where do these classes take place? </strong></h3>, <h3><strong>How much is it going to cost me?</strong></h3>, <h3><strong>How do I know this stuff is actually going to help me?</strong></h3>, <h3><strong>So, you guarantee that I will get a job once I do the course?</strong></h3>, <h3><strong>I feel like I am really done with \\u201cstudying\\u201d. School and college were great, but I can\\u2019t really take any more \\u201clectures\\u201d. </strong></h3>, <h3>\\n<strong> Ok. So, courses. What else you got? </strong>\\n</h3>, <h3>\\n<strong> How do I know what\\u2019s relevant for ME? </strong>\\n</h3>, <h3>\\n<strong>Who are these new kids on the block at the Konversations team? </strong>\\n</h3>, <h3>\\n<strong> Biggest question of all \\u2013 what\\u2019s with the \\u201cK\\u201d? </strong>\\n</h3>], [<h3><strong>What is Konversations?</strong></h3>, <h3><strong>Where do these classes take place? </strong></h3>, <h3><strong>How much is it going to cost me?</strong></h3>, <h3><strong>How do I know this stuff is actually going to help me?</strong></h3>, <h3><strong>So, you guarantee that I will get a job once I do the course?</strong></h3>, <h3><strong>I feel like I am really done with \\u201cstudying\\u201d. School and college were great, but I can\\u2019t really take any more \\u201clectures\\u201d. </strong></h3>, <h3>\\n<strong> Ok. So, courses. What else you got? </strong>\\n</h3>, <h3>\\n<strong> How do I know what\\u2019s relevant for ME? </strong>\\n</h3>, <h3>\\n<strong>Who are these new kids on the block at the Konversations team? </strong>\\n</h3>, <h3>\\n<strong> Biggest question of all \\u2013 what\\u2019s with the \\u201cK\\u201d? </strong>\\n</h3>], [<h3><strong>What is Konversations?</strong></h3>, <h3><strong>Where do these classes take place? </strong></h3>, <h3><strong>How much is it going to cost me?</strong></h3>, <h3><strong>How do I know this stuff is actually going to help me?</strong></h3>, <h3><strong>So, you guarantee that I will get a job once I do the course?</strong></h3>, <h3><strong>I feel like I am really done with \\u201cstudying\\u201d. School and college were great, but I can\\u2019t really take any more \\u201clectures\\u201d. </strong></h3>, <h3>\\n<strong> Ok. So, courses. What else you got? </strong>\\n</h3>, <h3>\\n<strong> How do I know what\\u2019s relevant for ME? </strong>\\n</h3>, <h3>\\n<strong>Who are these new kids on the block at the Konversations team? </strong>\\n</h3>, <h3>\\n<strong> Biggest question of all \\u2013 what\\u2019s with the \\u201cK\\u201d? </strong>\\n</h3>], [<h3><strong>What is Konversations?</strong></h3>, <h3><strong>Where do these classes take place? </strong></h3>, <h3><strong>How much is it going to cost me?</strong></h3>, <h3><strong>How do I know this stuff is actually going to help me?</strong></h3>, <h3><strong>So, you guarantee that I will get a job once I do the course?</strong></h3>, <h3><strong>I feel like I am really done with \\u201cstudying\\u201d. School and college were great, but I can\\u2019t really take any more \\u201clectures\\u201d. </strong></h3>, <h3>\\n<strong> Ok. So, courses. What else you got? </strong>\\n</h3>, <h3>\\n<strong> How do I know what\\u2019s relevant for ME? </strong>\\n</h3>, <h3>\\n<strong>Who are these new kids on the block at the Konversations team? </strong>\\n</h3>, <h3>\\n<strong> Biggest question of all \\u2013 what\\u2019s with the \\u201cK\\u201d? </strong>\\n</h3>], [<h3><strong>What is Konversations?</strong></h3>, <h3><strong>Where do these classes take place? </strong></h3>, <h3><strong>How much is it going to cost me?</strong></h3>, <h3><strong>How do I know this stuff is actually going to help me?</strong></h3>, <h3><strong>So, you guarantee that I will get a job once I do the course?</strong></h3>, <h3><strong>I feel like I am really done with \\u201cstudying\\u201d. School and college were great, but I can\\u2019t really take any more \\u201clectures\\u201d. </strong></h3>, <h3>\\n<strong> Ok. So, courses. What else you got? </strong>\\n</h3>, <h3>\\n<strong> How do I know what\\u2019s relevant for ME? </strong>\\n</h3>, <h3>\\n<strong>Who are these new kids on the block at the Konversations team? </strong>\\n</h3>, <h3>\\n<strong> Biggest question of all \\u2013 what\\u2019s with the \\u201cK\\u201d? </strong>\\n</h3>], [<h3><strong>What is Konversations?</strong></h3>, <h3><strong>Where do these classes take place? </strong></h3>, <h3><strong>How much is it going to cost me?</strong></h3>, <h3><strong>How do I know this stuff is actually going to help me?</strong></h3>, <h3><strong>So, you guarantee that I will get a job once I do the course?</strong></h3>, <h3><strong>I feel like I am really done with \\u201cstudying\\u201d. School and college were great, but I can\\u2019t really take any more \\u201clectures\\u201d. </strong></h3>, <h3>\\n<strong> Ok. So, courses. What else you got? </strong>\\n</h3>, <h3>\\n<strong> How do I know what\\u2019s relevant for ME? </strong>\\n</h3>, <h3>\\n<strong>Who are these new kids on the block at the Konversations team? </strong>\\n</h3>, <h3>\\n<strong> Biggest question of all \\u2013 what\\u2019s with the \\u201cK\\u201d? </strong>\\n</h3>], [<h3><strong>What is Konversations?</strong></h3>, <h3><strong>Where do these classes take place? </strong></h3>, <h3><strong>How much is it going to cost me?</strong></h3>, <h3><strong>How do I know this stuff is actually going to help me?</strong></h3>, <h3><strong>So, you guarantee that I will get a job once I do the course?</strong></h3>, <h3><strong>I feel like I am really done with \\u201cstudying\\u201d. School and college were great, but I can\\u2019t really take any more \\u201clectures\\u201d. </strong></h3>, <h3>\\n<strong> Ok. So, courses. What else you got? </strong>\\n</h3>, <h3>\\n<strong> How do I know what\\u2019s relevant for ME? </strong>\\n</h3>, <h3>\\n<strong>Who are these new kids on the block at the Konversations team? </strong>\\n</h3>, <h3>\\n<strong> Biggest question of all \\u2013 what\\u2019s with the \\u201cK\\u201d? </strong>\\n</h3>], [<h3><strong>What is Konversations?</strong></h3>, <h3><strong>Where do these classes take place? </strong></h3>, <h3><strong>How much is it going to cost me?</strong></h3>, <h3><strong>How do I know this stuff is actually going to help me?</strong></h3>, <h3><strong>So, you guarantee that I will get a job once I do the course?</strong></h3>, <h3><strong>I feel like I am really done with \\u201cstudying\\u201d. School and college were great, but I can\\u2019t really take any more \\u201clectures\\u201d. </strong></h3>, <h3>\\n<strong> Ok. So, courses. What else you got? </strong>\\n</h3>, <h3>\\n<strong> How do I know what\\u2019s relevant for ME? </strong>\\n</h3>, <h3>\\n<strong>Who are these new kids on the block at the Konversations team? </strong>\\n</h3>, <h3>\\n<strong> Biggest question of all \\u2013 what\\u2019s with the \\u201cK\\u201d? </strong>\\n</h3>], [<h3><strong>What is Konversations?</strong></h3>, <h3><strong>Where do these classes take place? </strong></h3>, <h3><strong>How much is it going to cost me?</strong></h3>, <h3><strong>How do I know this stuff is actually going to help me?</strong></h3>, <h3><strong>So, you guarantee that I will get a job once I do the course?</strong></h3>, <h3><strong>I feel like I am really done with \\u201cstudying\\u201d. School and college were great, but I can\\u2019t really take any more \\u201clectures\\u201d. </strong></h3>, <h3>\\n<strong> Ok. So, courses. What else you got? </strong>\\n</h3>, <h3>\\n<strong> How do I know what\\u2019s relevant for ME? </strong>\\n</h3>, <h3>\\n<strong>Who are these new kids on the block at the Konversations team? </strong>\\n</h3>, <h3>\\n<strong> Biggest question of all \\u2013 what\\u2019s with the \\u201cK\\u201d? </strong>\\n</h3>]]\n",
      "Stored!\n",
      "Invalid URL or No <h3> Tags Found!\n",
      "Can't store invalid or <h3> less URL\n"
     ]
    }
   ],
   "source": [
    "print \"Enter command eg: [ http://urltoscrap.com -heads -store ] \"\n",
    "display(sc_command)\n",
    "\n",
    "sc_command.on_submit(process_scrap)"
   ]
  },
  {
   "cell_type": "code",
   "execution_count": null,
   "metadata": {
    "collapsed": true
   },
   "outputs": [],
   "source": []
  }
 ],
 "metadata": {
  "kernelspec": {
   "display_name": "Python 2",
   "language": "python",
   "name": "python2"
  },
  "language_info": {
   "codemirror_mode": {
    "name": "ipython",
    "version": 2
   },
   "file_extension": ".py",
   "mimetype": "text/x-python",
   "name": "python",
   "nbconvert_exporter": "python",
   "pygments_lexer": "ipython2",
   "version": "2.7.13"
  },
  "widgets": {
   "state": {
    "2b000ae3d9374f4880f6e599f4149b9c": {
     "views": [
      {
       "cell_index": 2
      }
     ]
    }
   },
   "version": "1.2.0"
  }
 },
 "nbformat": 4,
 "nbformat_minor": 2
}
